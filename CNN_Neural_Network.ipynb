{
 "cells": [
  {
   "cell_type": "markdown",
   "metadata": {},
   "source": [
    "# Convolutional Neural Network (using Keras)"
   ]
  },
  {
   "cell_type": "code",
   "execution_count": 0,
   "metadata": {
    "colab": {},
    "colab_type": "code",
    "id": "io-lGEvh4mmU"
   },
   "outputs": [],
   "source": [
    "#importing the required libraries\n",
    "import os\n",
    "import numpy as np\n",
    "import pandas as pd\n",
    "from matplotlib import pyplot as plt\n",
    "import matplotlib\n",
    "import scipy\n",
    "from sklearn.metrics import confusion_matrix\n",
    "from sklearn.metrics import classification_report\n",
    "from sklearn.metrics import accuracy_score\n",
    "from sklearn.model_selection import train_test_split\n",
    "from keras import optimizers\n",
    "import tensorflow as tf\n",
    "from numpy import loadtxt\n",
    "from keras.models import Sequential\n",
    "from keras.layers import Dense\n",
    "from keras.layers import Dense,Conv2D, Flatten\n",
    "from keras.layers.convolutional import MaxPooling2D\n",
    "from sklearn.model_selection import train_test_split"
   ]
  },
  {
   "cell_type": "code",
   "execution_count": 0,
   "metadata": {
    "colab": {},
    "colab_type": "code",
    "id": "lXgCJqWd4qZE"
   },
   "outputs": [],
   "source": [
    "#Importing the data\n",
    "from keras.datasets import fashion_mnist\n",
    "(X_train,Y_train),(X_test,Y_test)=fashion_mnist.load_data()"
   ]
  },
  {
   "cell_type": "code",
   "execution_count": 0,
   "metadata": {
    "colab": {},
    "colab_type": "code",
    "id": "M5xZb1qT4sqx"
   },
   "outputs": [],
   "source": [
    "#to make the Y data to list from vector\n",
    "Y_train=Y_train.reshape(-1,1)\n",
    "X_train=X_train.reshape(60000,784)\n",
    "#to make the test data to 784 columns from 28*28\n",
    "X_test=X_test.reshape(-1,784)\n",
    "Y_test=Y_test.reshape(-1,1)"
   ]
  },
  {
   "cell_type": "code",
   "execution_count": 0,
   "metadata": {
    "colab": {},
    "colab_type": "code",
    "id": "Gs-bQorQ_cW9"
   },
   "outputs": [],
   "source": [
    "X_test, X_val, Y_test, Y_val = train_test_split(X_test, Y_test, train_size=0.50, random_state=100) #splitting the Test data according to Validate and Test"
   ]
  },
  {
   "cell_type": "code",
   "execution_count": 20,
   "metadata": {
    "colab": {
     "base_uri": "https://localhost:8080/",
     "height": 34
    },
    "colab_type": "code",
    "id": "rhrDOaQ14xqQ",
    "outputId": "b6b6d756-1ff6-4f27-9a1c-559427fb9621"
   },
   "outputs": [
    {
     "data": {
      "text/plain": [
       "(60000, 1)"
      ]
     },
     "execution_count": 20,
     "metadata": {
      "tags": []
     },
     "output_type": "execute_result"
    }
   ],
   "source": [
    "Y_train=Y_train.reshape(-1,1)\n",
    "Y_train.shape"
   ]
  },
  {
   "cell_type": "code",
   "execution_count": 21,
   "metadata": {
    "colab": {
     "base_uri": "https://localhost:8080/",
     "height": 34
    },
    "colab_type": "code",
    "id": "Z5yAC0jS41zc",
    "outputId": "92e2327c-38c3-4e8a-bf61-df523eb664fd"
   },
   "outputs": [
    {
     "data": {
      "text/plain": [
       "(5000, 1)"
      ]
     },
     "execution_count": 21,
     "metadata": {
      "tags": []
     },
     "output_type": "execute_result"
    }
   ],
   "source": [
    "Y_test=Y_test.reshape(-1,1)\n",
    "Y_test.shape"
   ]
  },
  {
   "cell_type": "code",
   "execution_count": 0,
   "metadata": {
    "colab": {},
    "colab_type": "code",
    "id": "kfVn910Z5XVi"
   },
   "outputs": [],
   "source": [
    "#to make the data of y_set onehot -flattening in 10 columns and mapping the class value with index of columns as 1 and rest of it as zero\n",
    "def onehotscratch(Y_train):\n",
    "    y_hotenc=np.zeros((Y_train.shape[0],10))\n",
    "    for i in range(Y_train.shape[0]):\n",
    "        value=Y_train[i][0]\n",
    "        y_hotenc[i][value]=1\n",
    "    return y_hotenc"
   ]
  },
  {
   "cell_type": "code",
   "execution_count": 0,
   "metadata": {
    "colab": {},
    "colab_type": "code",
    "id": "IiLOn2ai5aAc"
   },
   "outputs": [],
   "source": [
    "Y_hotenc_train=onehotscratch(Y_train)\n",
    "Y_hotenc_test=onehotscratch(Y_test)\n",
    "Y_hotenc_val=onehotscratch(Y_val)"
   ]
  },
  {
   "cell_type": "code",
   "execution_count": 0,
   "metadata": {
    "colab": {},
    "colab_type": "code",
    "id": "rEET63BCD8Sl"
   },
   "outputs": [],
   "source": [
    "X_train = X_train.reshape(X_train.shape[0], 28, 28, 1)\n",
    "X_test = X_test.reshape(X_test.shape[0], 28, 28, 1)\n",
    "X_val = X_val.reshape(X_val.shape[0], 28, 28, 1)"
   ]
  },
  {
   "cell_type": "code",
   "execution_count": 0,
   "metadata": {
    "colab": {},
    "colab_type": "code",
    "id": "vIBAewcIER6g"
   },
   "outputs": [],
   "source": [
    "# define the CNN model\n",
    "def make_model(X_train,Y_hotenc_train,value):\n",
    "  model_CNN = Sequential()\n",
    "  model_CNN.add(Conv2D(100, kernel_size = 2, activation = 'sigmoid', input_shape = (28, 28, 1)))\n",
    "  model_CNN.add(MaxPooling2D())\n",
    "  model_CNN.add(Conv2D(100, kernel_size = 2, activation = 'relu'))\n",
    "  model_CNN.add(MaxPooling2D())\n",
    "  model_CNN.add(Flatten())\n",
    "  model_CNN.add(Dense(units = 10, activation = 'softmax'))\n",
    "  # compile the CNN model\n",
    "  model_CNN.compile(loss='categorical_crossentropy',optimizer='sgd',metrics=['accuracy'])\n",
    "  # fit the CNN model on the dataset\n",
    "  Final_model=model_CNN.fit(X_train, Y_hotenc_train, epochs=value, batch_size=1000)\n",
    "  return Final_model,model_CNN"
   ]
  },
  {
   "cell_type": "code",
   "execution_count": 27,
   "metadata": {
    "colab": {
     "base_uri": "https://localhost:8080/",
     "height": 682
    },
    "colab_type": "code",
    "id": "tzCbFuA9E3ZP",
    "outputId": "84c0b16c-a717-4282-824c-c70c1353e713"
   },
   "outputs": [
    {
     "name": "stdout",
     "output_type": "stream",
     "text": [
      "Epoch 1/3\n",
      "60000/60000 [==============================] - 107s 2ms/step - loss: 1.3939 - acc: 0.5632\n",
      "Epoch 2/3\n",
      "60000/60000 [==============================] - 106s 2ms/step - loss: 0.8249 - acc: 0.7186\n",
      "Epoch 3/3\n",
      "60000/60000 [==============================] - 105s 2ms/step - loss: 0.6909 - acc: 0.7495\n",
      "Epoch 1/3\n",
      "5000/5000 [==============================] - 9s 2ms/step - loss: 2.1473 - acc: 0.2482\n",
      "Epoch 2/3\n",
      "5000/5000 [==============================] - 9s 2ms/step - loss: 1.9185 - acc: 0.4498\n",
      "Epoch 3/3\n",
      "5000/5000 [==============================] - 9s 2ms/step - loss: 1.7241 - acc: 0.5682\n",
      "60000/60000 [==============================] - 35s 580us/step\n",
      "Accuracy with training data \n",
      " 75.78166666666667 %\n",
      "\n",
      "\n",
      "5000/5000 [==============================] - 3s 603us/step\n",
      "Accuracy with validation data \n",
      " 62.739999999999995 %\n",
      "\n",
      "\n"
     ]
    },
    {
     "data": {
      "text/plain": [
       "<matplotlib.legend.Legend at 0x7fe881742908>"
      ]
     },
     "execution_count": 27,
     "metadata": {
      "tags": []
     },
     "output_type": "execute_result"
    },
    {
     "data": {
      "image/png": "[encoded data removed]",
      "text/plain": [
       "<Figure size 432x288 with 1 Axes>"
      ]
     },
     "metadata": {
      "tags": []
     },
     "output_type": "display_data"
    }
   ],
   "source": [
    "## Hyper Paramters as Epoch =3\n",
    "#Training Data\n",
    "Final_model_train1,model_CNN_train1=make_model(X_train,Y_hotenc_train,3)\n",
    "#Validation Data\n",
    "Final_model_val1,model_CNN_val1=make_model(X_val,Y_hotenc_val,3)\n",
    "\n",
    "#Checking accuracy and Cost vs Epochs\n",
    "_, accuracy_train1 = model_CNN_train1.evaluate(X_train, Y_hotenc_train)\n",
    "print(\"Accuracy with training data \\n\",accuracy_train1*100,\"%\\n\\n\")\n",
    "_, accuracy_val1 = model_CNN_val1.evaluate(X_val, Y_hotenc_val)\n",
    "print(\"Accuracy with validation data \\n\",accuracy_val1*100,\"%\\n\\n\")\n",
    "plt.title('Cost VS Epochs')\n",
    "plt.xlabel('Number of epochs')\n",
    "plt.ylabel('Cost')\n",
    "plt.plot(Final_model_train1.history['loss'],color='skyblue',label = \"Training Data loss\")\n",
    "plt.plot(Final_model_val1.history['loss'],color='red',label = \"Validation Data loss\")\n",
    "plt.legend()"
   ]
  },
  {
   "cell_type": "code",
   "execution_count": 28,
   "metadata": {
    "colab": {
     "base_uri": "https://localhost:8080/",
     "height": 1000
    },
    "colab_type": "code",
    "id": "8MtwfYieZYo5",
    "outputId": "0c545b1c-5b69-4ac7-ac89-f3a377577659"
   },
   "outputs": [
    {
     "name": "stdout",
     "output_type": "stream",
     "text": [
      "Epoch 1/8\n",
      "60000/60000 [==============================] - 105s 2ms/step - loss: 1.4347 - acc: 0.5810\n",
      "Epoch 2/8\n",
      "60000/60000 [==============================] - 106s 2ms/step - loss: 0.8448 - acc: 0.7171\n",
      "Epoch 3/8\n",
      "60000/60000 [==============================] - 106s 2ms/step - loss: 0.7116 - acc: 0.7421\n",
      "Epoch 4/8\n",
      "60000/60000 [==============================] - 105s 2ms/step - loss: 0.6482 - acc: 0.7576\n",
      "Epoch 5/8\n",
      "60000/60000 [==============================] - 104s 2ms/step - loss: 0.6037 - acc: 0.7750\n",
      "Epoch 6/8\n",
      "60000/60000 [==============================] - 105s 2ms/step - loss: 0.5689 - acc: 0.7872\n",
      "Epoch 7/8\n",
      "60000/60000 [==============================] - 106s 2ms/step - loss: 0.5456 - acc: 0.7959\n",
      "Epoch 8/8\n",
      "60000/60000 [==============================] - 106s 2ms/step - loss: 0.5309 - acc: 0.8020\n",
      "Epoch 1/8\n",
      "5000/5000 [==============================] - 9s 2ms/step - loss: 2.2302 - acc: 0.1730\n",
      "Epoch 2/8\n",
      "5000/5000 [==============================] - 9s 2ms/step - loss: 1.9310 - acc: 0.3822\n",
      "Epoch 3/8\n",
      "5000/5000 [==============================] - 9s 2ms/step - loss: 1.7128 - acc: 0.5108\n",
      "Epoch 4/8\n",
      "5000/5000 [==============================] - 9s 2ms/step - loss: 1.5252 - acc: 0.5932\n",
      "Epoch 5/8\n",
      "5000/5000 [==============================] - 9s 2ms/step - loss: 1.3716 - acc: 0.6448\n",
      "Epoch 6/8\n",
      "5000/5000 [==============================] - 9s 2ms/step - loss: 1.2507 - acc: 0.6680\n",
      "Epoch 7/8\n",
      "5000/5000 [==============================] - 9s 2ms/step - loss: 1.1526 - acc: 0.6896\n",
      "Epoch 8/8\n",
      "5000/5000 [==============================] - 9s 2ms/step - loss: 1.0787 - acc: 0.7036\n",
      "60000/60000 [==============================] - 35s 577us/step\n",
      "Accuracy with training data \n",
      " 81.15333333333334 %\n",
      "\n",
      "\n",
      "5000/5000 [==============================] - 3s 607us/step\n",
      "Accuracy with validation data \n",
      " 71.32 %\n",
      "\n",
      "\n"
     ]
    },
    {
     "data": {
      "text/plain": [
       "<matplotlib.legend.Legend at 0x7fe881505a90>"
      ]
     },
     "execution_count": 28,
     "metadata": {
      "tags": []
     },
     "output_type": "execute_result"
    },
    {
     "data": {
      "image/png": "[encoded data removed]",
      "text/plain": [
       "<Figure size 432x288 with 1 Axes>"
      ]
     },
     "metadata": {
      "tags": []
     },
     "output_type": "display_data"
    }
   ],
   "source": [
    "## Hyper Paramters as Epoch =8\n",
    "Final_model_train2,model_CNN_train2=make_model(X_train,Y_hotenc_train,8)\n",
    "#Validation Data\n",
    "Final_model_val2,model_CNN_val2=make_model(X_val,Y_hotenc_val,8)\n",
    "\n",
    "#Checking accuracy and Cost vs Epochs\n",
    "_, accuracy_train2 = model_CNN_train2.evaluate(X_train, Y_hotenc_train)\n",
    "print(\"Accuracy with training data \\n\",accuracy_train2*100,\"%\\n\\n\")\n",
    "_, accuracy_val2 = model_CNN_val2.evaluate(X_val, Y_hotenc_val)\n",
    "print(\"Accuracy with validation data \\n\",accuracy_val2*100,\"%\\n\\n\")\n",
    "plt.title('Cost VS Epochs')\n",
    "plt.xlabel('Number of epochs')\n",
    "plt.ylabel('Cost')\n",
    "plt.plot(Final_model_train2.history['loss'],color='skyblue',label = \"Training Data loss\")\n",
    "plt.plot(Final_model_val2.history['loss'],color='red',label = \"Validation Data loss\")\n",
    "plt.legend()"
   ]
  },
  {
   "cell_type": "code",
   "execution_count": 29,
   "metadata": {
    "colab": {
     "base_uri": "https://localhost:8080/",
     "height": 1000
    },
    "colab_type": "code",
    "id": "CB6TyCNMZJIg",
    "outputId": "293c7cb8-e087-4a47-fa3e-5f7eb1fbbbe6"
   },
   "outputs": [
    {
     "name": "stdout",
     "output_type": "stream",
     "text": [
      "Epoch 1/10\n",
      "60000/60000 [==============================] - 105s 2ms/step - loss: 1.3924 - acc: 0.6072\n",
      "Epoch 2/10\n",
      "60000/60000 [==============================] - 103s 2ms/step - loss: 0.8074 - acc: 0.7259\n",
      "Epoch 3/10\n",
      "60000/60000 [==============================] - 103s 2ms/step - loss: 0.6821 - acc: 0.7549\n",
      "Epoch 4/10\n",
      "60000/60000 [==============================] - 105s 2ms/step - loss: 0.6327 - acc: 0.7672\n",
      "Epoch 5/10\n",
      "60000/60000 [==============================] - 105s 2ms/step - loss: 0.5841 - acc: 0.7802\n",
      "Epoch 6/10\n",
      "60000/60000 [==============================] - 105s 2ms/step - loss: 0.5589 - acc: 0.7906\n",
      "Epoch 7/10\n",
      "60000/60000 [==============================] - 104s 2ms/step - loss: 0.5382 - acc: 0.7982\n",
      "Epoch 8/10\n",
      "60000/60000 [==============================] - 104s 2ms/step - loss: 0.5170 - acc: 0.8078\n",
      "Epoch 9/10\n",
      "60000/60000 [==============================] - 104s 2ms/step - loss: 0.4949 - acc: 0.8176\n",
      "Epoch 10/10\n",
      "60000/60000 [==============================] - 105s 2ms/step - loss: 0.4875 - acc: 0.8222\n",
      "Epoch 1/10\n",
      "5000/5000 [==============================] - 9s 2ms/step - loss: 2.3660 - acc: 0.1548\n",
      "Epoch 2/10\n",
      "5000/5000 [==============================] - 9s 2ms/step - loss: 1.9536 - acc: 0.4448\n",
      "Epoch 3/10\n",
      "5000/5000 [==============================] - 9s 2ms/step - loss: 1.7479 - acc: 0.5752\n",
      "Epoch 4/10\n",
      "5000/5000 [==============================] - 9s 2ms/step - loss: 1.5714 - acc: 0.6120\n",
      "Epoch 5/10\n",
      "5000/5000 [==============================] - 9s 2ms/step - loss: 1.4097 - acc: 0.6574\n",
      "Epoch 6/10\n",
      "5000/5000 [==============================] - 9s 2ms/step - loss: 1.2890 - acc: 0.6572\n",
      "Epoch 7/10\n",
      "5000/5000 [==============================] - 9s 2ms/step - loss: 1.1775 - acc: 0.6960\n",
      "Epoch 8/10\n",
      "5000/5000 [==============================] - 9s 2ms/step - loss: 1.0989 - acc: 0.6950\n",
      "Epoch 9/10\n",
      "5000/5000 [==============================] - 9s 2ms/step - loss: 1.0277 - acc: 0.7100\n",
      "Epoch 10/10\n",
      "5000/5000 [==============================] - 9s 2ms/step - loss: 0.9751 - acc: 0.7166\n",
      "60000/60000 [==============================] - 40s 664us/step\n",
      "Accuracy with training data \n",
      " 83.235 %\n",
      "\n",
      "\n",
      "5000/5000 [==============================] - 4s 701us/step\n",
      "Accuracy with validation data \n",
      " 70.66 %\n",
      "\n",
      "\n"
     ]
    },
    {
     "data": {
      "text/plain": [
       "<matplotlib.legend.Legend at 0x7fe8812cf588>"
      ]
     },
     "execution_count": 29,
     "metadata": {
      "tags": []
     },
     "output_type": "execute_result"
    },
    {
     "data": {
      "image/png": "[encoded data removed]",
      "text/plain": [
       "<Figure size 432x288 with 1 Axes>"
      ]
     },
     "metadata": {
      "tags": []
     },
     "output_type": "display_data"
    }
   ],
   "source": [
    "## Hyper Paramters as Epoch =10\n",
    "#Training Data\n",
    "Final_model_train3,model_CNN_train3=make_model(X_train,Y_hotenc_train,10)\n",
    "#Validation Data\n",
    "Final_model_val3,model_CNN_val3=make_model(X_val,Y_hotenc_val,10)\n",
    "\n",
    "#Checking accuracy and Cost vs Epochs\n",
    "_, accuracy_train3 = model_CNN_train3.evaluate(X_train, Y_hotenc_train)\n",
    "print(\"Accuracy with training data \\n\",accuracy_train3*100,\"%\\n\\n\")\n",
    "_, accuracy_val3 = model_CNN_val3.evaluate(X_val, Y_hotenc_val)\n",
    "print(\"Accuracy with validation data \\n\",accuracy_val3*100,\"%\\n\\n\")\n",
    "plt.title('Cost VS Epochs')\n",
    "plt.xlabel('Number of epochs')\n",
    "plt.ylabel('Cost')\n",
    "plt.plot(Final_model_train3.history['loss'],color='skyblue',label = \"Training Data loss\")\n",
    "plt.plot(Final_model_val3.history['loss'],color='red',label = \"Validation Data loss\")\n",
    "plt.legend()"
   ]
  },
  {
   "cell_type": "code",
   "execution_count": 37,
   "metadata": {
    "colab": {
     "base_uri": "https://localhost:8080/",
     "height": 312
    },
    "colab_type": "code",
    "id": "2O2dluGsLtEN",
    "outputId": "381ba5c3-fcad-4476-908f-7b0fd3a7f3a3"
   },
   "outputs": [
    {
     "data": {
      "text/plain": [
       "<matplotlib.legend.Legend at 0x7fe881174400>"
      ]
     },
     "execution_count": 37,
     "metadata": {
      "tags": []
     },
     "output_type": "execute_result"
    },
    {
     "data": {
      "image/png": "[encoded data removed]",
      "text/plain": [
       "<Figure size 432x288 with 1 Axes>"
      ]
     },
     "metadata": {
      "tags": []
     },
     "output_type": "display_data"
    }
   ],
   "source": [
    "plt.title('Accuracies VS Epochs')\n",
    "plt.xlabel('Number of epochs')\n",
    "plt.ylabel('Accuracies')\n",
    "plt.plot(Final_model_train1.history['acc'],color='blue',label = \"Accuracy with Epoch=3\")\n",
    "plt.plot(Final_model_train2.history['acc'],color='yellow',label = \"Accuracy with Epoch=8\")\n",
    "plt.plot(Final_model_train3.history['acc'],color='green',label = \"Accuracy with Epoch=10\")\n",
    "plt.legend()"
   ]
  },
  {
   "cell_type": "code",
   "execution_count": 32,
   "metadata": {
    "colab": {
     "base_uri": "https://localhost:8080/",
     "height": 67
    },
    "colab_type": "code",
    "id": "0NOP-rjAM-Xo",
    "outputId": "98247956-819f-4ded-9e21-ac5173d9b423"
   },
   "outputs": [
    {
     "name": "stdout",
     "output_type": "stream",
     "text": [
      "5000/5000 [==============================] - 3s 666us/step\n",
      "Accuracy with test data :\n",
      " 82.56 %\n"
     ]
    }
   ],
   "source": [
    "# evaluating CNN model\n",
    "_, accuracy = model_CNN_train3.evaluate(X_test, Y_hotenc_test)\n",
    "print(\"Accuracy with test data :\\n\",accuracy*100,\"%\")\n"
   ]
  },
  {
   "cell_type": "code",
   "execution_count": 33,
   "metadata": {
    "colab": {
     "base_uri": "https://localhost:8080/",
     "height": 185
    },
    "colab_type": "code",
    "id": "CqWU2VdENRvW",
    "outputId": "6b8ad1d4-3110-4060-df57-c732f907d568"
   },
   "outputs": [
    {
     "data": {
      "text/plain": [
       "array([[408,   0,  15,  38,   2,   0,  23,   0,  11,   0],\n",
       "       [  2, 457,   2,  24,   6,   0,   2,   0,   0,   0],\n",
       "       [  4,   0, 399,   5,  62,   0,  26,   0,   3,   0],\n",
       "       [ 10,   9,  10, 433,  18,   0,   9,   0,   1,   0],\n",
       "       [  0,   2,  69,  19, 377,   1,  25,   0,   2,   0],\n",
       "       [  0,   0,   0,   2,   0, 426,   0,  33,   3,  13],\n",
       "       [101,   2,  95,  25,  76,   1, 190,   0,  19,   0],\n",
       "       [  0,   0,   0,   0,   0,  17,   0, 469,   0,  26],\n",
       "       [  0,   0,   8,   5,   3,   5,   5,   2, 462,   1],\n",
       "       [  0,   0,   0,   0,   0,   4,   1,  24,   1, 507]])"
      ]
     },
     "execution_count": 33,
     "metadata": {
      "tags": []
     },
     "output_type": "execute_result"
    }
   ],
   "source": [
    "confusion_matrix(Y_test,model_CNN_train3.predict_classes(X_test))"
   ]
  },
  {
   "cell_type": "code",
   "execution_count": 35,
   "metadata": {
    "colab": {
     "base_uri": "https://localhost:8080/",
     "height": 302
    },
    "colab_type": "code",
    "id": "C8HqQoVoNsy-",
    "outputId": "571a63bf-c640-4538-c94d-c006686455ce"
   },
   "outputs": [
    {
     "name": "stdout",
     "output_type": "stream",
     "text": [
      "              precision    recall  f1-score   support\n",
      "\n",
      "     class 0       0.78      0.82      0.80       497\n",
      "     class 1       0.97      0.93      0.95       493\n",
      "     class 2       0.67      0.80      0.73       499\n",
      "     class 3       0.79      0.88      0.83       490\n",
      "     class 4       0.69      0.76      0.73       495\n",
      "     class 5       0.94      0.89      0.92       477\n",
      "     class 6       0.68      0.37      0.48       509\n",
      "     class 7       0.89      0.92      0.90       512\n",
      "     class 8       0.92      0.94      0.93       491\n",
      "     class 9       0.93      0.94      0.94       537\n",
      "\n",
      "    accuracy                           0.83      5000\n",
      "   macro avg       0.82      0.83      0.82      5000\n",
      "weighted avg       0.82      0.83      0.82      5000\n",
      "\n"
     ]
    }
   ],
   "source": [
    "target_names = ['class 0', 'class 1', 'class 2','class 3','class 4','class 5','class 6','class 7','class 8','class 9']\n",
    "print(classification_report(Y_test, model_CNN_train3.predict_classes(X_test),target_names=target_names))"
   ]
  }
 ],
 "metadata": {
  "colab": {
   "collapsed_sections": [],
   "name": "CNN_Neural_Network.ipynb",
   "provenance": []
  },
  "kernelspec": {
   "display_name": "Python 3",
   "language": "python",
   "name": "python3"
  },
  "language_info": {
   "codemirror_mode": {
    "name": "ipython",
    "version": 3
   },
   "file_extension": ".py",
   "mimetype": "text/x-python",
   "name": "python",
   "nbconvert_exporter": "python",
   "pygments_lexer": "ipython3",
   "version": "3.7.4"
  }
 },
 "nbformat": 4,
 "nbformat_minor": 1
}
