{
 "cells": [
  {
   "cell_type": "markdown",
   "metadata": {},
   "source": [
    "# Implementation with One Hidden Layer (From Scratch)"
   ]
  },
  {
   "cell_type": "code",
   "execution_count": 0,
   "metadata": {
    "colab": {},
    "colab_type": "code",
    "id": "nagwQXkIp1vS"
   },
   "outputs": [],
   "source": [
    "#importing important libraries\n",
    "import os\n",
    "import numpy as np\n",
    "import pandas as pd\n",
    "from matplotlib import pyplot as plt\n",
    "import matplotlib\n",
    "import scipy\n",
    "from sklearn.metrics import confusion_matrix\n",
    "from sklearn.metrics import classification_report\n",
    "from sklearn.metrics import accuracy_score\n",
    "from sklearn.model_selection import train_test_split\n",
    "\n"
   ]
  },
  {
   "cell_type": "code",
   "execution_count": 0,
   "metadata": {
    "colab": {},
    "colab_type": "code",
    "id": "_Dp4W9PLqKI6"
   },
   "outputs": [],
   "source": [
    "#importing  the dataasets\n",
    "from keras.datasets import fashion_mnist\n",
    "(X_train,Y_train),(X_test,Y_test)=fashion_mnist.load_data()"
   ]
  },
  {
   "cell_type": "code",
   "execution_count": 0,
   "metadata": {
    "colab": {},
    "colab_type": "code",
    "id": "b24Qq-4lp1vV"
   },
   "outputs": [],
   "source": [
    "Y_test_new=Y_test\n",
    "X_test_new=X_test"
   ]
  },
  {
   "cell_type": "code",
   "execution_count": 150,
   "metadata": {
    "colab": {
     "base_uri": "https://localhost:8080/",
     "height": 34
    },
    "colab_type": "code",
    "id": "n1YsERt0q5d5",
    "outputId": "8743ce51-7a18-4bf8-9990-b8bbcdc0bda9"
   },
   "outputs": [
    {
     "data": {
      "text/plain": [
       "(60000, 1)"
      ]
     },
     "execution_count": 150,
     "metadata": {
      "tags": []
     },
     "output_type": "execute_result"
    }
   ],
   "source": [
    "Y_train=Y_train.reshape(-1,1)\n",
    "X_train=X_train.reshape(60000,784)\n",
    "\n",
    "X_test=X_test.reshape(-1,784)\n",
    "Y_test=Y_test.reshape(-1,1)\n",
    "Y_train.shape"
   ]
  },
  {
   "cell_type": "code",
   "execution_count": 0,
   "metadata": {
    "colab": {},
    "colab_type": "code",
    "id": "DOXQsoqdp1vX"
   },
   "outputs": [],
   "source": [
    "#to make the data between 0 and 1\n",
    "X_train=X_train/255\n",
    "X_test=X_test/255"
   ]
  },
  {
   "cell_type": "code",
   "execution_count": 0,
   "metadata": {
    "colab": {},
    "colab_type": "code",
    "id": "fNidwSMbw3aS"
   },
   "outputs": [],
   "source": [
    "X_test, X_val, Y_test, Y_val = train_test_split(X_test, Y_test, train_size=0.50, random_state=100) #splitting the Test data according to Validate and Test"
   ]
  },
  {
   "cell_type": "code",
   "execution_count": 153,
   "metadata": {
    "colab": {
     "base_uri": "https://localhost:8080/",
     "height": 34
    },
    "colab_type": "code",
    "id": "Z5h-tBlop1vZ",
    "outputId": "59e7e971-767b-4e34-fa05-2b44bee6a5e6"
   },
   "outputs": [
    {
     "data": {
      "text/plain": [
       "(60000, 784)"
      ]
     },
     "execution_count": 153,
     "metadata": {
      "tags": []
     },
     "output_type": "execute_result"
    }
   ],
   "source": [
    "X_train.shape"
   ]
  },
  {
   "cell_type": "code",
   "execution_count": 154,
   "metadata": {
    "colab": {
     "base_uri": "https://localhost:8080/",
     "height": 34
    },
    "colab_type": "code",
    "id": "UR6HtZJjp1vb",
    "outputId": "09933ffe-37f8-480e-f0b3-fca302527302"
   },
   "outputs": [
    {
     "data": {
      "text/plain": [
       "(60000, 1)"
      ]
     },
     "execution_count": 154,
     "metadata": {
      "tags": []
     },
     "output_type": "execute_result"
    }
   ],
   "source": [
    "Y_train.shape"
   ]
  },
  {
   "cell_type": "code",
   "execution_count": 155,
   "metadata": {
    "colab": {
     "base_uri": "https://localhost:8080/",
     "height": 34
    },
    "colab_type": "code",
    "id": "9VA-qV6fp1vc",
    "outputId": "66c22380-51df-4ca7-8ec1-026293be8cc5"
   },
   "outputs": [
    {
     "data": {
      "text/plain": [
       "(5000, 784)"
      ]
     },
     "execution_count": 155,
     "metadata": {
      "tags": []
     },
     "output_type": "execute_result"
    }
   ],
   "source": [
    "X_val.shape"
   ]
  },
  {
   "cell_type": "code",
   "execution_count": 156,
   "metadata": {
    "colab": {
     "base_uri": "https://localhost:8080/",
     "height": 34
    },
    "colab_type": "code",
    "id": "9KVD2Ldbp1vf",
    "outputId": "c7606f13-6473-4b4f-af15-d5b7618c74a6"
   },
   "outputs": [
    {
     "data": {
      "text/plain": [
       "(60000, 1)"
      ]
     },
     "execution_count": 156,
     "metadata": {
      "tags": []
     },
     "output_type": "execute_result"
    }
   ],
   "source": [
    "#y_train.shape\n",
    "#y_train=np.asmatrix(y_train.T)\n",
    "Y_train=Y_train.reshape(-1,1)\n",
    "Y_train.shape"
   ]
  },
  {
   "cell_type": "code",
   "execution_count": 157,
   "metadata": {
    "colab": {
     "base_uri": "https://localhost:8080/",
     "height": 34
    },
    "colab_type": "code",
    "id": "M5hrMK28p1vg",
    "outputId": "e6ac2d1c-f34b-4753-9d3a-3bc63f5a84f8"
   },
   "outputs": [
    {
     "data": {
      "text/plain": [
       "(5000, 1)"
      ]
     },
     "execution_count": 157,
     "metadata": {
      "tags": []
     },
     "output_type": "execute_result"
    }
   ],
   "source": [
    "Y_test=Y_test.reshape(-1,1)\n",
    "Y_test.shape"
   ]
  },
  {
   "cell_type": "code",
   "execution_count": 158,
   "metadata": {
    "colab": {
     "base_uri": "https://localhost:8080/",
     "height": 34
    },
    "colab_type": "code",
    "id": "alK8hQRYp1vi",
    "outputId": "45127eb7-0749-4ec1-f6c6-d3bd1ae41fb5"
   },
   "outputs": [
    {
     "data": {
      "text/plain": [
       "784"
      ]
     },
     "execution_count": 158,
     "metadata": {
      "tags": []
     },
     "output_type": "execute_result"
    }
   ],
   "source": [
    "input_size=X_train.shape[1]\n",
    "input_size"
   ]
  },
  {
   "cell_type": "code",
   "execution_count": 0,
   "metadata": {
    "colab": {},
    "colab_type": "code",
    "id": "fWMFwVh6p1vk"
   },
   "outputs": [],
   "source": [
    "hidden_size=100\n"
   ]
  },
  {
   "cell_type": "code",
   "execution_count": 0,
   "metadata": {
    "colab": {},
    "colab_type": "code",
    "id": "HzsobB08p1vm"
   },
   "outputs": [],
   "source": [
    "#to make the data of y_set onehot -flattening in 10 columns and mapping the class value with index of columns as 1 and rest of it as zero\n",
    "def onehotscratch(Y_train):\n",
    "    y_hotenc=np.zeros((Y_train.shape[0],10))\n",
    "    for i in range(Y_train.shape[0]):\n",
    "        value=Y_train[i][0]\n",
    "        y_hotenc[i][value]=1\n",
    "    return y_hotenc"
   ]
  },
  {
   "cell_type": "code",
   "execution_count": 0,
   "metadata": {
    "colab": {},
    "colab_type": "code",
    "id": "bJrP-9Llp1vo"
   },
   "outputs": [],
   "source": [
    "Y_hotenc_train=onehotscratch(Y_train)\n",
    "Y_hotenc_test=onehotscratch(Y_test)\n",
    "Y_hotenc_val=onehotscratch(Y_val)"
   ]
  },
  {
   "cell_type": "code",
   "execution_count": 0,
   "metadata": {
    "colab": {},
    "colab_type": "code",
    "id": "hku-rNeXp1vs"
   },
   "outputs": [],
   "source": [
    "def sigmoid(z): #Sigmoid Function - This is actual logisitc regression function that we will be using to return predicted y as per corresponding x values\n",
    "    return 1 / (1 + np.exp(-z))\n",
    "\n",
    "def softmax(x): ##Softmax function\n",
    "    e_x = np.exp(x)\n",
    "    return e_x / e_x.sum(axis=1).reshape(-1,1) \n",
    "\n",
    "\n",
    "epochs_array=[]\n",
    "def model_function(X_train,Y_train,epochs,learningrate,input_size,hidden_size): #the function we will be using to train the data and changing hyperparameters\n",
    "    global w,b,epochs_array,learningrate_array,epochs_array,losstrack,accuracies,b1,b2,ans1\n",
    "    losstrack = [] #used for generating the cost function\n",
    "    accuracies=[]\n",
    "    ans1=[]\n",
    "    #m=X_train.shape[1]\n",
    "    W1 = 0.01 * np.random.randn(input_size, hidden_size)\n",
    "    W2 = 0.01 * np.random.randn(W1.shape[1],10)\n",
    "    \n",
    "    b1=0\n",
    "    b2=0\n",
    "    \n",
    "    #Number of Training instances\n",
    "    for epoch in range(epochs):\n",
    "        z1 = np.dot(X_train, W1) + b1\n",
    "        a1 = sigmoid(z1)\n",
    "        z2 = np.dot(a1,W2)+b2\n",
    "        a2=softmax(z2)\n",
    "\n",
    "        \n",
    "        cost = -np.sum(np.log(a2)*(Y_train),axis=1) #cross entropy\n",
    "        \n",
    "\n",
    "        losstrack.append(0.5*(np.mean(cost)))\n",
    "        \n",
    "        y_temp1=1-a1\n",
    "        y_temp2=a2-Y_train               \n",
    "                       \n",
    "        delta_w2=np.dot(a1.T,y_temp2)\n",
    "        multiply1=np.dot(y_temp2,W2.T)\n",
    "        multiply2=a1*y_temp1\n",
    "        multiply3=multiply1*multiply2\n",
    "        multiply3.shape               \n",
    "        delta_w1=np.dot(X_train.T,multiply3)               \n",
    "                       \n",
    "        W1 = W1 - learningrate * delta_w1\n",
    "        #print(W1,\"W1\")\n",
    "        W2 = W2 - learningrate * delta_w2\n",
    "        #print(W2,\"W2\")\n",
    "        \n",
    "        #b = b - learningrate * db\n",
    "        #epochs_array.append(epoch)\n",
    "        #ans1.append(predict_function(a2))\n",
    "    #accuracies.append(accuracy_check(ans1,Y_train))\n",
    "    ans=predict_function(a2)\n",
    "    return ans,W1,W2\n",
    "\n",
    "\n",
    " # Predict function to predict y for a generated (a2) and X_value   \n",
    "def predict_function(a2):\n",
    "    preds = []\n",
    "    for row in a2:\n",
    "        preds.append(np.argmax(row))\n",
    "    return preds\n",
    "  \n",
    "#accuracy check\n",
    "def accuracy_check(Y_predicted,Y_train):\n",
    "    counts=0\n",
    "    Y_Pred=(np.asarray(Y_predicted)).reshape(-1,1)\n",
    "    for i in range(Y_Pred.shape[0]):\n",
    "        if(Y_Pred[i]==Y_train[i]):\n",
    "              counts=counts+1   \n",
    "    accuracy=counts/Y_Pred.shape[0]  \n",
    "    return accuracy"
   ]
  },
  {
   "cell_type": "code",
   "execution_count": 163,
   "metadata": {
    "colab": {
     "base_uri": "https://localhost:8080/",
     "height": 396
    },
    "colab_type": "code",
    "id": "qblnDu-zp1vu",
    "outputId": "19c650f6-2c9b-49fc-e2da-5b9efce0f3fd"
   },
   "outputs": [
    {
     "name": "stdout",
     "output_type": "stream",
     "text": [
      "Accuracy with training data is:  0.8498 \n",
      "\n",
      "Accuracy with validation data is:  0.7314 \n",
      "\n",
      "\n"
     ]
    },
    {
     "data": {
      "text/plain": [
       "<matplotlib.legend.Legend at 0x7ff22e74f978>"
      ]
     },
     "execution_count": 163,
     "metadata": {
      "tags": []
     },
     "output_type": "execute_result"
    },
    {
     "data": {
      "image/png": "[encoded data removed]",
      "text/plain": [
       "<Figure size 432x288 with 1 Axes>"
      ]
     },
     "metadata": {
      "tags": []
     },
     "output_type": "display_data"
    }
   ],
   "source": [
    "## Learning rate 0.00003 and epochs=800\n",
    "\n",
    "################################ Training Data ########################################################\n",
    "Y_predicted,Final_W1,Final_W2=model_function(X_train,Y_hotenc_train,500,0.00003,input_size,hidden_size)\n",
    "accucheck=accuracy_check(Y_predicted,Y_train)\n",
    "print(\"Accuracy with training data is: \",accucheck,\"\\n\")\n",
    "plt.title('Cost VS Epochs')\n",
    "plt.xlabel('Number of epochs')\n",
    "plt.ylabel('Cost')\n",
    "plt.plot(losstrack,color='skyblue',label = \"Training Data loss\")\n",
    "###############################Validation data###########################################\n",
    "Y_predicted,Final_W1,Final_W2=model_function(X_val,Y_hotenc_val,500,0.00003,input_size,hidden_size)\n",
    "accucheck=accuracy_check(Y_predicted,Y_val)\n",
    "print(\"Accuracy with validation data is: \",accucheck,\"\\n\\n\")\n",
    "predicted_Y_val=(predict_function(X_val))\n",
    "plt.plot(losstrack,color='red',label = \"Validation Data loss\")\n",
    "plt.legend()\n"
   ]
  },
  {
   "cell_type": "code",
   "execution_count": 164,
   "metadata": {
    "colab": {
     "base_uri": "https://localhost:8080/",
     "height": 396
    },
    "colab_type": "code",
    "id": "uopC47C_4hKJ",
    "outputId": "1fa810c7-61d5-45ff-f79b-0ae6e60c34e0"
   },
   "outputs": [
    {
     "name": "stdout",
     "output_type": "stream",
     "text": [
      "Accuracy with training data is:  0.8670666666666667 \n",
      "\n",
      "Accuracy with validation data is:  0.7684 \n",
      "\n",
      "\n"
     ]
    },
    {
     "data": {
      "text/plain": [
       "<matplotlib.legend.Legend at 0x7ff22e733cc0>"
      ]
     },
     "execution_count": 164,
     "metadata": {
      "tags": []
     },
     "output_type": "execute_result"
    },
    {
     "data": {
      "image/png": "[encoded data removed]",
      "text/plain": [
       "<Figure size 432x288 with 1 Axes>"
      ]
     },
     "metadata": {
      "tags": []
     },
     "output_type": "display_data"
    }
   ],
   "source": [
    "## Learning rate 0.00003 and epochs=800\n",
    "################################ Training Data ########################################################\n",
    "Y_predicted,Final_W1,Final_W2=model_function(X_train,Y_hotenc_train,800,0.00003,input_size,hidden_size)\n",
    "accucheck=accuracy_check(Y_predicted,Y_train)\n",
    "print(\"Accuracy with training data is: \",accucheck,\"\\n\")\n",
    "plt.title('Cost VS Epochs')\n",
    "plt.xlabel('Number of epochs')\n",
    "plt.ylabel('Cost')\n",
    "plt.plot(losstrack,color='skyblue',label = \"Training Data loss\")\n",
    "###############################Validation data###########################################\n",
    "Y_predicted,Final_W1,Final_W2=model_function(X_val,Y_hotenc_val,800,0.00003,input_size,hidden_size)\n",
    "accucheck=accuracy_check(Y_predicted,Y_val)\n",
    "print(\"Accuracy with validation data is: \",accucheck,\"\\n\\n\")\n",
    "predicted_Y_val=(predict_function(X_val))\n",
    "plt.plot(losstrack,color='red',label = \"Validation Data loss\")\n",
    "plt.legend()\n"
   ]
  },
  {
   "cell_type": "code",
   "execution_count": 165,
   "metadata": {
    "colab": {
     "base_uri": "https://localhost:8080/",
     "height": 396
    },
    "colab_type": "code",
    "id": "UYIaDQUM4iS6",
    "outputId": "ad310f97-3544-4e2d-9f94-58d5a63185ba"
   },
   "outputs": [
    {
     "name": "stdout",
     "output_type": "stream",
     "text": [
      "Accuracy with training data is:  0.8710166666666667 \n",
      "\n",
      "Accuracy with validation data is:  0.8378 \n",
      "\n",
      "\n"
     ]
    },
    {
     "data": {
      "text/plain": [
       "<matplotlib.legend.Legend at 0x7ff22f174b38>"
      ]
     },
     "execution_count": 165,
     "metadata": {
      "tags": []
     },
     "output_type": "execute_result"
    },
    {
     "data": {
      "image/png": "[encoded data removed]",
      "text/plain": [
       "<Figure size 432x288 with 1 Axes>"
      ]
     },
     "metadata": {
      "tags": []
     },
     "output_type": "display_data"
    }
   ],
   "source": [
    "## Learning rate 0.00003 and epochs=1000\n",
    "################################ Training Data ########################################################\n",
    "Y_predicted,Final_W1,Final_W2=model_function(X_train,Y_hotenc_train,1000,0.00003,input_size,hidden_size)\n",
    "accucheck=accuracy_check(Y_predicted,Y_train)\n",
    "print(\"Accuracy with training data is: \",accucheck,\"\\n\")\n",
    "plt.title('Cost VS Epochs')\n",
    "plt.xlabel('Number of epochs')\n",
    "plt.ylabel('Cost')\n",
    "plt.plot(losstrack,color='skyblue',label = \"Training Data loss\")\n",
    "###############################Validation data###########################################\n",
    "Y_predicted,Dummy_W1,Dummy_W2=model_function(X_val,Y_hotenc_val,1000,0.00006,input_size,hidden_size)\n",
    "accucheck=accuracy_check(Y_predicted,Y_val)\n",
    "print(\"Accuracy with validation data is: \",accucheck,\"\\n\\n\")\n",
    "predicted_Y_val=(predict_function(X_val))\n",
    "plt.plot(losstrack,color='red',label = \"Validation Data loss\")\n",
    "plt.legend()\n"
   ]
  },
  {
   "cell_type": "code",
   "execution_count": 166,
   "metadata": {
    "colab": {
     "base_uri": "https://localhost:8080/",
     "height": 34
    },
    "colab_type": "code",
    "id": "KNgt4Najp1vy",
    "outputId": "55c5ec07-c2ac-4eb8-dbc8-74fde7345111"
   },
   "outputs": [
    {
     "name": "stdout",
     "output_type": "stream",
     "text": [
      "Accuracy with test data is:  85.5 %\n"
     ]
    }
   ],
   "source": [
    "################################ Test Data ########################################################\n",
    "#Y_predicted,Dummy_W1,Dummy_W2=model_function(X_test,Y_hotenc_test,1,0.00001,input_size,hidden_size)\n",
    "\n",
    "z1 = np.dot(X_test, Final_W1)\n",
    "a1 = sigmoid(z1)\n",
    "z2 = np.dot(a1,Final_W2)\n",
    "a2=softmax(z2)\n",
    "\n",
    "Y_predicted=predict_function(a2)\n",
    "\n",
    "accucheck=accuracy_check(Y_predicted,Y_test)\n",
    "print(\"Accuracy with test data is: \",accucheck*100,\"%\")"
   ]
  },
  {
   "cell_type": "code",
   "execution_count": 167,
   "metadata": {
    "colab": {
     "base_uri": "https://localhost:8080/",
     "height": 185
    },
    "colab_type": "code",
    "id": "wTppZutLp1v0",
    "outputId": "f87da006-fa4b-41a8-edd1-ba8e0c9ab65b"
   },
   "outputs": [
    {
     "data": {
      "text/plain": [
       "array([[441,   1,   6,  25,   2,   2,  15,   0,   5,   0],\n",
       "       [  3, 473,   1,  13,   2,   0,   1,   0,   0,   0],\n",
       "       [ 10,   2, 396,   6,  70,   1,   9,   0,   5,   0],\n",
       "       [ 18,   7,   5, 442,  14,   0,   3,   0,   1,   0],\n",
       "       [  1,   1,  43,  20, 418,   0,  11,   0,   1,   0],\n",
       "       [  0,   0,   0,   1,   0, 426,   0,  29,   0,  21],\n",
       "       [112,   1,  77,  27,  69,   1, 208,   0,  14,   0],\n",
       "       [  0,   0,   0,   0,   0,  10,   0, 480,   0,  22],\n",
       "       [  2,   0,   3,   5,   1,   1,   1,   2, 476,   0],\n",
       "       [  0,   0,   0,   0,   0,   3,   0,  18,   1, 515]])"
      ]
     },
     "execution_count": 167,
     "metadata": {
      "tags": []
     },
     "output_type": "execute_result"
    }
   ],
   "source": [
    "confusion_matrix(Y_test,Y_predicted)"
   ]
  },
  {
   "cell_type": "code",
   "execution_count": 168,
   "metadata": {
    "colab": {
     "base_uri": "https://localhost:8080/",
     "height": 302
    },
    "colab_type": "code",
    "id": "6wbidAyEp1v2",
    "outputId": "3410080a-11a5-461f-dd14-8ff2dd4763d0"
   },
   "outputs": [
    {
     "name": "stdout",
     "output_type": "stream",
     "text": [
      "              precision    recall  f1-score   support\n",
      "\n",
      "     class 0       0.75      0.89      0.81       497\n",
      "     class 1       0.98      0.96      0.97       493\n",
      "     class 2       0.75      0.79      0.77       499\n",
      "     class 3       0.82      0.90      0.86       490\n",
      "     class 4       0.73      0.84      0.78       495\n",
      "     class 5       0.96      0.89      0.93       477\n",
      "     class 6       0.84      0.41      0.55       509\n",
      "     class 7       0.91      0.94      0.92       512\n",
      "     class 8       0.95      0.97      0.96       491\n",
      "     class 9       0.92      0.96      0.94       537\n",
      "\n",
      "    accuracy                           0.85      5000\n",
      "   macro avg       0.86      0.86      0.85      5000\n",
      "weighted avg       0.86      0.85      0.85      5000\n",
      "\n"
     ]
    }
   ],
   "source": [
    "target_names = ['class 0', 'class 1', 'class 2','class 3','class 4','class 5','class 6','class 7','class 8','class 9']\n",
    "print(classification_report(Y_test, Y_predicted,target_names=target_names))\n"
   ]
  }
 ],
 "metadata": {
  "colab": {
   "collapsed_sections": [],
   "name": "Main.ipynb",
   "provenance": []
  },
  "kernelspec": {
   "display_name": "Python 3",
   "language": "python",
   "name": "python3"
  },
  "language_info": {
   "codemirror_mode": {
    "name": "ipython",
    "version": 3
   },
   "file_extension": ".py",
   "mimetype": "text/x-python",
   "name": "python",
   "nbconvert_exporter": "python",
   "pygments_lexer": "ipython3",
   "version": "3.7.4"
  }
 },
 "nbformat": 4,
 "nbformat_minor": 1
}
