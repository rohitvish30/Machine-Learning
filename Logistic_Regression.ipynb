{
 "cells": [
  {
   "cell_type": "markdown",
   "metadata": {},
   "source": [
    "#                                       LOGISTIC REGRESSION"
   ]
  },
  {
   "cell_type": "markdown",
   "metadata": {},
   "source": [
    "* Importing important libraries that we will be using for our program.\n",
    "* Libraries numpy, os, pandas, matplotlib, sklearn and their subest libraries.\n"
   ]
  },
  {
   "cell_type": "code",
   "execution_count": 1,
   "metadata": {},
   "outputs": [],
   "source": [
    "import numpy as np #used for working with arrays.\n",
    "import os #used to work with directories\n",
    "import pandas as pd #used for working with data manipulation and analysis\n",
    "from matplotlib import pyplot as plt #used for plotting graphs\n",
    "from sklearn import preprocessing #used for scaling the data\n",
    "from sklearn.metrics import confusion_matrix #used to generate confusion matrix from which we will be calculating our accuracy\n",
    "from sklearn.model_selection import train_test_split #used to divide our data into training , validataion and test data\n",
    "\n",
    "os.getcwd() ## to get the working directory\n",
    "os.chdir(\"D:\\\\University At Buffalo\\\\Courses\\\\Introduction to ML\\\\Project\") ## to change the working directory"
   ]
  },
  {
   "cell_type": "markdown",
   "metadata": {},
   "source": [
    "# 1. Extract features values and Image Ids from the data"
   ]
  },
  {
   "cell_type": "code",
   "execution_count": 2,
   "metadata": {},
   "outputs": [
    {
     "data": {
      "text/plain": [
       "(569, 32)"
      ]
     },
     "execution_count": 2,
     "metadata": {},
     "output_type": "execute_result"
    }
   ],
   "source": [
    "BCData=pd.read_csv(\"wdbc.csv\",header=None) ## to import the csv file\n",
    "BCData.shape # to know the dimensions of the data which is 569 rows and 32 columns."
   ]
  },
  {
   "cell_type": "code",
   "execution_count": 3,
   "metadata": {},
   "outputs": [],
   "source": [
    "BCData.columns = ['id','diagnosis','radius_mean','texture_mean','perimeter_mean','area_mean','smoothness_mean','compactness_mean','concavity_mean','concave.points_mean','symmetry_mean','fractal_dimension_mean','radius_se','texture_se','perimeter_se','area_se','smoothness_se','compactness_se','concavity_se','concave.points_se','symmetry_se','fractal_dimension_se','radius_worst','texture_worst','perimeter_worst','area_worst','smoothness_worst','compactness_worst','concavity_worst','concave.points_worst','symmetry_worst','fractal_dimension_worst']\n",
    "# to include headers in the data to make it easy to understand"
   ]
  },
  {
   "cell_type": "code",
   "execution_count": 4,
   "metadata": {},
   "outputs": [
    {
     "data": {
      "text/html": [
       "<div>\n",
       "<style scoped>\n",
       "    .dataframe tbody tr th:only-of-type {\n",
       "        vertical-align: middle;\n",
       "    }\n",
       "\n",
       "    .dataframe tbody tr th {\n",
       "        vertical-align: top;\n",
       "    }\n",
       "\n",
       "    .dataframe thead th {\n",
       "        text-align: right;\n",
       "    }\n",
       "</style>\n",
       "<table border=\"1\" class=\"dataframe\">\n",
       "  <thead>\n",
       "    <tr style=\"text-align: right;\">\n",
       "      <th></th>\n",
       "      <th>id</th>\n",
       "      <th>diagnosis</th>\n",
       "      <th>radius_mean</th>\n",
       "      <th>texture_mean</th>\n",
       "      <th>perimeter_mean</th>\n",
       "      <th>area_mean</th>\n",
       "      <th>smoothness_mean</th>\n",
       "      <th>compactness_mean</th>\n",
       "      <th>concavity_mean</th>\n",
       "      <th>concave.points_mean</th>\n",
       "      <th>...</th>\n",
       "      <th>radius_worst</th>\n",
       "      <th>texture_worst</th>\n",
       "      <th>perimeter_worst</th>\n",
       "      <th>area_worst</th>\n",
       "      <th>smoothness_worst</th>\n",
       "      <th>compactness_worst</th>\n",
       "      <th>concavity_worst</th>\n",
       "      <th>concave.points_worst</th>\n",
       "      <th>symmetry_worst</th>\n",
       "      <th>fractal_dimension_worst</th>\n",
       "    </tr>\n",
       "  </thead>\n",
       "  <tbody>\n",
       "    <tr>\n",
       "      <th>0</th>\n",
       "      <td>842302</td>\n",
       "      <td>M</td>\n",
       "      <td>17.99</td>\n",
       "      <td>10.38</td>\n",
       "      <td>122.80</td>\n",
       "      <td>1001.0</td>\n",
       "      <td>0.11840</td>\n",
       "      <td>0.27760</td>\n",
       "      <td>0.3001</td>\n",
       "      <td>0.14710</td>\n",
       "      <td>...</td>\n",
       "      <td>25.38</td>\n",
       "      <td>17.33</td>\n",
       "      <td>184.60</td>\n",
       "      <td>2019.0</td>\n",
       "      <td>0.1622</td>\n",
       "      <td>0.6656</td>\n",
       "      <td>0.7119</td>\n",
       "      <td>0.2654</td>\n",
       "      <td>0.4601</td>\n",
       "      <td>0.11890</td>\n",
       "    </tr>\n",
       "    <tr>\n",
       "      <th>1</th>\n",
       "      <td>842517</td>\n",
       "      <td>M</td>\n",
       "      <td>20.57</td>\n",
       "      <td>17.77</td>\n",
       "      <td>132.90</td>\n",
       "      <td>1326.0</td>\n",
       "      <td>0.08474</td>\n",
       "      <td>0.07864</td>\n",
       "      <td>0.0869</td>\n",
       "      <td>0.07017</td>\n",
       "      <td>...</td>\n",
       "      <td>24.99</td>\n",
       "      <td>23.41</td>\n",
       "      <td>158.80</td>\n",
       "      <td>1956.0</td>\n",
       "      <td>0.1238</td>\n",
       "      <td>0.1866</td>\n",
       "      <td>0.2416</td>\n",
       "      <td>0.1860</td>\n",
       "      <td>0.2750</td>\n",
       "      <td>0.08902</td>\n",
       "    </tr>\n",
       "    <tr>\n",
       "      <th>2</th>\n",
       "      <td>84300903</td>\n",
       "      <td>M</td>\n",
       "      <td>19.69</td>\n",
       "      <td>21.25</td>\n",
       "      <td>130.00</td>\n",
       "      <td>1203.0</td>\n",
       "      <td>0.10960</td>\n",
       "      <td>0.15990</td>\n",
       "      <td>0.1974</td>\n",
       "      <td>0.12790</td>\n",
       "      <td>...</td>\n",
       "      <td>23.57</td>\n",
       "      <td>25.53</td>\n",
       "      <td>152.50</td>\n",
       "      <td>1709.0</td>\n",
       "      <td>0.1444</td>\n",
       "      <td>0.4245</td>\n",
       "      <td>0.4504</td>\n",
       "      <td>0.2430</td>\n",
       "      <td>0.3613</td>\n",
       "      <td>0.08758</td>\n",
       "    </tr>\n",
       "    <tr>\n",
       "      <th>3</th>\n",
       "      <td>84348301</td>\n",
       "      <td>M</td>\n",
       "      <td>11.42</td>\n",
       "      <td>20.38</td>\n",
       "      <td>77.58</td>\n",
       "      <td>386.1</td>\n",
       "      <td>0.14250</td>\n",
       "      <td>0.28390</td>\n",
       "      <td>0.2414</td>\n",
       "      <td>0.10520</td>\n",
       "      <td>...</td>\n",
       "      <td>14.91</td>\n",
       "      <td>26.50</td>\n",
       "      <td>98.87</td>\n",
       "      <td>567.7</td>\n",
       "      <td>0.2098</td>\n",
       "      <td>0.8663</td>\n",
       "      <td>0.6869</td>\n",
       "      <td>0.2575</td>\n",
       "      <td>0.6638</td>\n",
       "      <td>0.17300</td>\n",
       "    </tr>\n",
       "    <tr>\n",
       "      <th>4</th>\n",
       "      <td>84358402</td>\n",
       "      <td>M</td>\n",
       "      <td>20.29</td>\n",
       "      <td>14.34</td>\n",
       "      <td>135.10</td>\n",
       "      <td>1297.0</td>\n",
       "      <td>0.10030</td>\n",
       "      <td>0.13280</td>\n",
       "      <td>0.1980</td>\n",
       "      <td>0.10430</td>\n",
       "      <td>...</td>\n",
       "      <td>22.54</td>\n",
       "      <td>16.67</td>\n",
       "      <td>152.20</td>\n",
       "      <td>1575.0</td>\n",
       "      <td>0.1374</td>\n",
       "      <td>0.2050</td>\n",
       "      <td>0.4000</td>\n",
       "      <td>0.1625</td>\n",
       "      <td>0.2364</td>\n",
       "      <td>0.07678</td>\n",
       "    </tr>\n",
       "  </tbody>\n",
       "</table>\n",
       "<p>5 rows × 32 columns</p>\n",
       "</div>"
      ],
      "text/plain": [
       "         id diagnosis  radius_mean  texture_mean  perimeter_mean  area_mean  \\\n",
       "0    842302         M        17.99         10.38          122.80     1001.0   \n",
       "1    842517         M        20.57         17.77          132.90     1326.0   \n",
       "2  84300903         M        19.69         21.25          130.00     1203.0   \n",
       "3  84348301         M        11.42         20.38           77.58      386.1   \n",
       "4  84358402         M        20.29         14.34          135.10     1297.0   \n",
       "\n",
       "   smoothness_mean  compactness_mean  concavity_mean  concave.points_mean  \\\n",
       "0          0.11840           0.27760          0.3001              0.14710   \n",
       "1          0.08474           0.07864          0.0869              0.07017   \n",
       "2          0.10960           0.15990          0.1974              0.12790   \n",
       "3          0.14250           0.28390          0.2414              0.10520   \n",
       "4          0.10030           0.13280          0.1980              0.10430   \n",
       "\n",
       "            ...             radius_worst  texture_worst  perimeter_worst  \\\n",
       "0           ...                    25.38          17.33           184.60   \n",
       "1           ...                    24.99          23.41           158.80   \n",
       "2           ...                    23.57          25.53           152.50   \n",
       "3           ...                    14.91          26.50            98.87   \n",
       "4           ...                    22.54          16.67           152.20   \n",
       "\n",
       "   area_worst  smoothness_worst  compactness_worst  concavity_worst  \\\n",
       "0      2019.0            0.1622             0.6656           0.7119   \n",
       "1      1956.0            0.1238             0.1866           0.2416   \n",
       "2      1709.0            0.1444             0.4245           0.4504   \n",
       "3       567.7            0.2098             0.8663           0.6869   \n",
       "4      1575.0            0.1374             0.2050           0.4000   \n",
       "\n",
       "   concave.points_worst  symmetry_worst  fractal_dimension_worst  \n",
       "0                0.2654          0.4601                  0.11890  \n",
       "1                0.1860          0.2750                  0.08902  \n",
       "2                0.2430          0.3613                  0.08758  \n",
       "3                0.2575          0.6638                  0.17300  \n",
       "4                0.1625          0.2364                  0.07678  \n",
       "\n",
       "[5 rows x 32 columns]"
      ]
     },
     "execution_count": 4,
     "metadata": {},
     "output_type": "execute_result"
    }
   ],
   "source": [
    "BCData.head() ## to know the first five rows which includes headers and all columns "
   ]
  },
  {
   "cell_type": "code",
   "execution_count": 5,
   "metadata": {},
   "outputs": [],
   "source": [
    "del BCData['id'] #to drop the column id as it is not significant variable for training our model"
   ]
  },
  {
   "cell_type": "code",
   "execution_count": 6,
   "metadata": {},
   "outputs": [
    {
     "data": {
      "text/plain": [
       "(569, 31)"
      ]
     },
     "execution_count": 6,
     "metadata": {},
     "output_type": "execute_result"
    }
   ],
   "source": [
    "BCData.shape #checking dimension after dropping one column which is 569 rows and 31 columns"
   ]
  },
  {
   "cell_type": "code",
   "execution_count": 7,
   "metadata": {},
   "outputs": [],
   "source": [
    "BCData['diagnosis'] = BCData['diagnosis'].map({'M': 1, 'B': 0}) # to change the values of our target variable to 0 and 1 accordingly so that we can use it in our training."
   ]
  },
  {
   "cell_type": "code",
   "execution_count": 8,
   "metadata": {},
   "outputs": [],
   "source": [
    "# Putting feature variable to x\n",
    "x = BCData[[\"radius_mean\",\"texture_mean\",\"perimeter_mean\",\"area_mean\",\"smoothness_mean\",\"compactness_mean\",\"concavity_mean\",\"concave.points_mean\",\"symmetry_mean\",\"fractal_dimension_mean\",\"radius_se\",\"texture_se\",\"perimeter_se\",\"area_se\",\"smoothness_se\",\"compactness_se\",\"concavity_se\",\"concave.points_se\",\"symmetry_se\",\"fractal_dimension_se\",\"radius_worst\",\"texture_worst\",\"perimeter_worst\",\"area_worst\",\"smoothness_worst\",\"compactness_worst\",\"concavity_worst\",\"concave.points_worst\",\"symmetry_worst\",\"fractal_dimension_worst\"]]\n",
    "\n",
    "# Putting target variable to y\n",
    "y = BCData[[\"diagnosis\"]]\n",
    "\n",
    "x=pd.DataFrame(x) #creating a dataframe for x\n",
    "y=pd.DataFrame(y) #creating a dataframe for y\n",
    "#random_state is the seed used by the random number generator. It can be any integer.\n",
    "\n",
    "\n"
   ]
  },
  {
   "cell_type": "markdown",
   "metadata": {},
   "source": [
    "# 2. Data Partitioning:"
   ]
  },
  {
   "cell_type": "code",
   "execution_count": 9,
   "metadata": {},
   "outputs": [
    {
     "name": "stderr",
     "output_type": "stream",
     "text": [
      "C:\\Users\\Rohit Vishwakarma\\Anaconda3\\lib\\site-packages\\sklearn\\model_selection\\_split.py:2179: FutureWarning: From version 0.21, test_size will always complement train_size unless both are specified.\n",
      "  FutureWarning)\n"
     ]
    }
   ],
   "source": [
    "x_train, x_test, y_train, y_test = train_test_split(x, y, train_size=0.80,test_size=0.20 , random_state=100) #splitting the data according to Train and Test\n",
    "x_test, x_val, y_test, y_val = train_test_split(x_test, y_test, train_size=0.50, random_state=100) #splitting the Test data according to Validate and Test"
   ]
  },
  {
   "cell_type": "code",
   "execution_count": 10,
   "metadata": {},
   "outputs": [],
   "source": [
    "## Normalize the data x data so that it is in the range of 0 o 1... we dont need to normalize y as it is in the range of 0 and 1\n",
    "\n",
    "scaledata=preprocessing.MinMaxScaler()\n",
    "X_train = scaledata.fit_transform(x_train)\n",
    "X_test = scaledata.fit_transform(x_test)\n",
    "X_val = scaledata.fit_transform(x_val)"
   ]
  },
  {
   "cell_type": "code",
   "execution_count": 11,
   "metadata": {},
   "outputs": [],
   "source": [
    "X_train,X_test,X_val = X_train.T,X_test.T,X_val.T #transposing the data to use it further for traning model\n",
    "Y_train,Y_test,Y_val= y_train.values.reshape(1,y_train.shape[0]),y_test.values.reshape(1,y_test.shape[0]),y_val.values.reshape(1,y_val.shape[0])"
   ]
  },
  {
   "cell_type": "markdown",
   "metadata": {},
   "source": [
    "# 3. Train using Logistic Regression"
   ]
  },
  {
   "cell_type": "code",
   "execution_count": 12,
   "metadata": {},
   "outputs": [],
   "source": [
    "def sigmoid(z): #Sigmoid Function - This is actual logisitc regression function that we will be using to return predicted y as per corresponding x values\n",
    "    return 1 / (1 + np.exp(-z))\n",
    "\n",
    "epochs_array=[]\n",
    "def model_function(X_train,Y_train,epochs,learningrate): #the function we will be using to train the data using gradient descent to get best accuracy with corresponding hyper parameters i.e learning rate and epochs\n",
    "    global w,b,epochs_array,learningrate_array,losstrack\n",
    "    losstrack = [] #used for generating the cost function \n",
    "    m=X_train.shape[1]\n",
    "    w = np.zeros((X_train.shape[0],1))\n",
    "    b = 0\n",
    "    \n",
    "    #Number of Training instances\n",
    "    for epoch in range(epochs):\n",
    "        z = np.dot(w.T, X_train) + b\n",
    "        p = sigmoid(z)\n",
    "        cost = -np.sum(np.multiply(np.log(p), Y_train) + np.multiply((1 - Y_train), np.log(1 - p)))/m\n",
    "        losstrack.append(cost)\n",
    "        dz = p-Y_train\n",
    "        dw = (1 / m) * np.dot(X_train, dz.T)\n",
    "        db = (1 / m) * np.sum(dz)\n",
    "        w = w - learningrate * dw\n",
    "        b = b - learningrate * db\n",
    "        epochs_array.append(epoch)\n",
    "    return w,b\n",
    "      \n",
    " # Predict function to predict y for a generated (w,b) and X_value   \n",
    "def predict_function(X_value):\n",
    "    z = np.dot(w.T, X_value) + b\n",
    "    p = sigmoid(z)\n",
    "    predicted_y=(p>0.5)\n",
    "    return 1*predicted_y\n",
    "\n",
    "accuracies=[]\n",
    "\n",
    "#Generating confusion matrix with the predicted y value and original y of our data\n",
    "def calculate_accuracy(predicted_Y_train,Y_train):\n",
    "    global accuracies\n",
    "    matrix_indi_value=confusion_matrix(Y_train[0], predicted_Y_train[0])\n",
    "    print(confusion_matrix(Y_train[0], predicted_Y_train[0]))\n",
    "    \n",
    "    #TP : True Positive , TN : True Negative , FN : False Negative, FP : False Positive\n",
    "    TP=matrix_indi_value[0,0]\n",
    "    TN=matrix_indi_value[1,1]\n",
    "    FN=matrix_indi_value[0,1]\n",
    "    FP=matrix_indi_value[1,0]\n",
    "    \n",
    "    Accuracy=(TP+TN)/(TP+TN+FN+FP) #Giving accuracy of our model \n",
    "    print(\"\\nAccuracy\\n :\",Accuracy)\n",
    "        \n",
    "    Precision=(TP)/(TP+FP) #for all instances classified positive, what percent was correct?\n",
    "    print(\"\\nPrecision\\n :\",Precision)\n",
    "       \n",
    "    Recall=(TP)/(TP+FN) #for all instances that were actually positive, what percent was classified correctly?\n",
    "    print(\"\\nRecall\\n :\",Recall)\n",
    "    names = ['Accuracy', 'Precision', 'Recall']\n",
    "    \n",
    "    accuracies.append(Accuracy)\n",
    "    \n",
    "        \n",
    "    "
   ]
  },
  {
   "cell_type": "markdown",
   "metadata": {},
   "source": [
    "# 4. Tune hyper-parameters"
   ]
  },
  {
   "cell_type": "code",
   "execution_count": 13,
   "metadata": {},
   "outputs": [
    {
     "name": "stdout",
     "output_type": "stream",
     "text": [
      "\n",
      " ------- Training Data -------\n",
      "\n",
      "[[290   2]\n",
      " [ 16 147]]\n",
      "\n",
      "Accuracy\n",
      " : 0.9604395604395605\n",
      "\n",
      "Precision\n",
      " : 0.9477124183006536\n",
      "\n",
      "Recall\n",
      " : 0.9931506849315068\n",
      "\n",
      " ------- Validation Data -------\n",
      "\n",
      "[[33  0]\n",
      " [ 1 23]]\n",
      "\n",
      "Accuracy\n",
      " : 0.9824561403508771\n",
      "\n",
      "Precision\n",
      " : 0.9705882352941176\n",
      "\n",
      "Recall\n",
      " : 1.0\n"
     ]
    },
    {
     "data": {
      "image/png": "[encoded data removed]",
      "text/plain": [
       "<Figure size 432x288 with 1 Axes>"
      ]
     },
     "metadata": {
      "needs_background": "light"
     },
     "output_type": "display_data"
    }
   ],
   "source": [
    "# Fixing epochs=10000 and changing the learning rate\n",
    "\n",
    "#1st run with learning rate=0.02\n",
    "# ---------------------------- TRAINING DATA --------------------------------------------\n",
    "w_final,b_final=model_function(X_train,Y_train,10000,0.02)\n",
    "predicted_Y_train=(predict_function(X_train))\n",
    "print(\"\\n ------- Training Data -------\\n\")\n",
    "calculate_accuracy(predicted_Y_train,Y_train)\n",
    "plt.title('Cost VS Epochs')\n",
    "plt.xlabel('Number of epochs')\n",
    "plt.ylabel('Cost')\n",
    "plt.plot(losstrack,color='skyblue',label = \"Training Data Loss\")\n",
    "\n",
    "# ---------------------------- VALIDATION DATA -------------------------------------------\n",
    "w_final,b_final=model_function(X_val,Y_val,10000,0.02)\n",
    "predicted_Y_val=(predict_function(X_val))\n",
    "print(\"\\n ------- Validation Data -------\\n\")\n",
    "calculate_accuracy(predicted_Y_val,Y_val)\n",
    "plt.plot(losstrack,color='red',label = \"Validation Data loss\")\n",
    "plt.legend()\n",
    "plt.show()\n",
    "\n",
    "#plt.plot(epochs_array,accuracies)\n"
   ]
  },
  {
   "cell_type": "code",
   "execution_count": 14,
   "metadata": {},
   "outputs": [
    {
     "name": "stdout",
     "output_type": "stream",
     "text": [
      "\n",
      " ------- Training Data -------\n",
      "\n",
      "[[290   2]\n",
      " [ 10 153]]\n",
      "\n",
      "Accuracy\n",
      " : 0.9736263736263736\n",
      "\n",
      "Precision\n",
      " : 0.9666666666666667\n",
      "\n",
      "Recall\n",
      " : 0.9931506849315068\n",
      "\n",
      " ------- Validation Data -------\n",
      "\n",
      "[[33  0]\n",
      " [ 1 23]]\n",
      "\n",
      "Accuracy\n",
      " : 0.9824561403508771\n",
      "\n",
      "Precision\n",
      " : 0.9705882352941176\n",
      "\n",
      "Recall\n",
      " : 1.0\n"
     ]
    },
    {
     "data": {
      "text/plain": [
       "<matplotlib.legend.Legend at 0x2a1314d3160>"
      ]
     },
     "execution_count": 14,
     "metadata": {},
     "output_type": "execute_result"
    },
    {
     "data": {
      "image/png": "[encoded data removed]",
      "text/plain": [
       "<Figure size 432x288 with 1 Axes>"
      ]
     },
     "metadata": {
      "needs_background": "light"
     },
     "output_type": "display_data"
    }
   ],
   "source": [
    "#2nd run with learning rate=0.04\n",
    "# ------------------------------ TRAINING DATA --------------------------------------------\n",
    "w_final,b_final=model_function(X_train,Y_train,10000,0.04)\n",
    "predicted_Y_train=(predict_function(X_train))\n",
    "print(\"\\n ------- Training Data -------\\n\")\n",
    "calculate_accuracy(predicted_Y_train,Y_train)\n",
    "plt.title('Cost VS Epochs')\n",
    "plt.xlabel('Number of epochs')\n",
    "plt.ylabel('Cost')\n",
    "plt.plot(losstrack,color='skyblue',label = \"Training Data Loss\")\n",
    "\n",
    "#------------------------------- VALIDATION DATA -------------------------------------------\n",
    "w_final,b_final=model_function(X_val,Y_val,10000,0.04)\n",
    "predicted_Y_val=(predict_function(X_val))\n",
    "print(\"\\n ------- Validation Data -------\\n\")\n",
    "calculate_accuracy(predicted_Y_val,Y_val)\n",
    "plt.plot(losstrack,color='red',label = \"Validation Data loss\")\n",
    "plt.legend()"
   ]
  },
  {
   "cell_type": "code",
   "execution_count": 15,
   "metadata": {},
   "outputs": [
    {
     "name": "stdout",
     "output_type": "stream",
     "text": [
      "\n",
      " ------- Training Data -------\n",
      "\n",
      "[[291   1]\n",
      " [  8 155]]\n",
      "\n",
      "Accuracy\n",
      " : 0.9802197802197802\n",
      "\n",
      "Precision\n",
      " : 0.9732441471571907\n",
      "\n",
      "Recall\n",
      " : 0.9965753424657534\n",
      "\n",
      " ------- Validation Data -------\n",
      "\n",
      "[[33  0]\n",
      " [ 1 23]]\n",
      "\n",
      "Accuracy\n",
      " : 0.9824561403508771\n",
      "\n",
      "Precision\n",
      " : 0.9705882352941176\n",
      "\n",
      "Recall\n",
      " : 1.0\n"
     ]
    },
    {
     "data": {
      "text/plain": [
       "<matplotlib.legend.Legend at 0x2a13155ef28>"
      ]
     },
     "execution_count": 15,
     "metadata": {},
     "output_type": "execute_result"
    },
    {
     "data": {
      "image/png": "[encoded data removed]",
      "text/plain": [
       "<Figure size 432x288 with 1 Axes>"
      ]
     },
     "metadata": {
      "needs_background": "light"
     },
     "output_type": "display_data"
    }
   ],
   "source": [
    "#3rd run with learning rate=0.06\n",
    "# ---------------------------- TRAINING DATA --------------------------------------------\n",
    "w_final,b_final=model_function(X_train,Y_train,10000,0.06)\n",
    "predicted_Y_train=(predict_function(X_train))\n",
    "print(\"\\n ------- Training Data -------\\n\")\n",
    "calculate_accuracy(predicted_Y_train,Y_train)\n",
    "plt.title('Cost VS Epochs')\n",
    "plt.xlabel('Number of epochs')\n",
    "plt.ylabel('Cost')\n",
    "plt.plot(losstrack,color='skyblue',label = \"Training Data Loss\")\n",
    "\n",
    "# ---------------------------- VALIDATION DATA --------------------------------------------\n",
    "w_final,b_final=model_function(X_val,Y_val,10000,0.06)\n",
    "predicted_Y_val=(predict_function(X_val))\n",
    "print(\"\\n ------- Validation Data -------\\n\")\n",
    "calculate_accuracy(predicted_Y_val,Y_val)\n",
    "plt.plot(losstrack,color='red',label = \"Validation Data loss\")\n",
    "plt.legend()"
   ]
  },
  {
   "cell_type": "markdown",
   "metadata": {},
   "source": [
    "# 5. Test your machine learning scheme on the testing set"
   ]
  },
  {
   "cell_type": "code",
   "execution_count": 16,
   "metadata": {},
   "outputs": [
    {
     "name": "stdout",
     "output_type": "stream",
     "text": [
      "\n",
      " ------- Test Data -------\n",
      "\n",
      "[[31  1]\n",
      " [ 6 19]]\n",
      "\n",
      "Accuracy\n",
      " : 0.8771929824561403\n",
      "\n",
      "Precision\n",
      " : 0.8378378378378378\n",
      "\n",
      "Recall\n",
      " : 0.96875\n"
     ]
    }
   ],
   "source": [
    "#Testing the test_data with the best accuracy of the models with the current hypermaters i.e Learning rate = 0.10 , Epochs = 10000 and current w and b\n",
    "\n",
    "z = np.dot(w_final.T, X_test) + b_final\n",
    "p = sigmoid(z)\n",
    "predicted_Y_test=(p>0.5)\n",
    "    \n",
    "print(\"\\n ------- Test Data -------\\n\")\n",
    "calculate_accuracy(predicted_Y_test,Y_test)\n"
   ]
  }
 ],
 "metadata": {
  "kernelspec": {
   "display_name": "Python 3",
   "language": "python",
   "name": "python3"
  },
  "language_info": {
   "codemirror_mode": {
    "name": "ipython",
    "version": 3
   },
   "file_extension": ".py",
   "mimetype": "text/x-python",
   "name": "python",
   "nbconvert_exporter": "python",
   "pygments_lexer": "ipython3",
   "version": "3.7.1"
  }
 },
 "nbformat": 4,
 "nbformat_minor": 2
}
